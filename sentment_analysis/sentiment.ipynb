{
 "cells": [
  {
   "attachments": {},
   "cell_type": "markdown",
   "metadata": {},
   "source": [
    "<h3>Training Sentiment Analysis Model using Movies Review</h3>\n",
    "Source: <a href=\"https://www.kaggle.com/code/gauravkumar462/imdb-moview-review-sentiment-analysis\">Kaggle dataset<a/>"
   ]
  },
  {
   "cell_type": "code",
   "execution_count": 1,
   "metadata": {},
   "outputs": [],
   "source": [
    "import nltk\n",
    "import random\n",
    "import os\n",
    "import pickle\n",
    "import pandas as pd\n",
    "import matplotlib.pyplot as plt \n",
    "\n",
    "from statistics import mode\n",
    "from scipy import stats as s\n",
    "from nltk.classify.scikitlearn import SklearnClassifier\n",
    "from sklearn.naive_bayes import MultinomialNB, BernoulliNB\n",
    "from sklearn.linear_model import LogisticRegression, SGDClassifier\n",
    "from sklearn.svm import SVC, LinearSVC, NuSVC\n",
    "from nltk.classify import ClassifierI\n",
    "from nltk.tokenize import word_tokenize"
   ]
  },
  {
   "attachments": {},
   "cell_type": "markdown",
   "metadata": {},
   "source": [
    "<h5>Loading IMDB Data into Dataframe</h5>"
   ]
  },
  {
   "cell_type": "code",
   "execution_count": 2,
   "metadata": {},
   "outputs": [],
   "source": [
    "file_path = os.getcwd() + \"/\"\n",
    "data_df = pd.read_csv(file_path + \"IMDB Dataset.csv\")\n",
    "data_df = data_df[0:10000]  # take only 5000 rows"
   ]
  },
  {
   "cell_type": "code",
   "execution_count": 3,
   "metadata": {},
   "outputs": [
    {
     "data": {
      "text/html": [
       "<div>\n",
       "<style scoped>\n",
       "    .dataframe tbody tr th:only-of-type {\n",
       "        vertical-align: middle;\n",
       "    }\n",
       "\n",
       "    .dataframe tbody tr th {\n",
       "        vertical-align: top;\n",
       "    }\n",
       "\n",
       "    .dataframe thead th {\n",
       "        text-align: right;\n",
       "    }\n",
       "</style>\n",
       "<table border=\"1\" class=\"dataframe\">\n",
       "  <thead>\n",
       "    <tr style=\"text-align: right;\">\n",
       "      <th></th>\n",
       "      <th>review</th>\n",
       "      <th>sentiment</th>\n",
       "    </tr>\n",
       "  </thead>\n",
       "  <tbody>\n",
       "    <tr>\n",
       "      <th>0</th>\n",
       "      <td>One of the other reviewers has mentioned that ...</td>\n",
       "      <td>positive</td>\n",
       "    </tr>\n",
       "    <tr>\n",
       "      <th>1</th>\n",
       "      <td>A wonderful little production. &lt;br /&gt;&lt;br /&gt;The...</td>\n",
       "      <td>positive</td>\n",
       "    </tr>\n",
       "    <tr>\n",
       "      <th>2</th>\n",
       "      <td>I thought this was a wonderful way to spend ti...</td>\n",
       "      <td>positive</td>\n",
       "    </tr>\n",
       "    <tr>\n",
       "      <th>3</th>\n",
       "      <td>Basically there's a family where a little boy ...</td>\n",
       "      <td>negative</td>\n",
       "    </tr>\n",
       "    <tr>\n",
       "      <th>4</th>\n",
       "      <td>Petter Mattei's \"Love in the Time of Money\" is...</td>\n",
       "      <td>positive</td>\n",
       "    </tr>\n",
       "  </tbody>\n",
       "</table>\n",
       "</div>"
      ],
      "text/plain": [
       "                                              review sentiment\n",
       "0  One of the other reviewers has mentioned that ...  positive\n",
       "1  A wonderful little production. <br /><br />The...  positive\n",
       "2  I thought this was a wonderful way to spend ti...  positive\n",
       "3  Basically there's a family where a little boy ...  negative\n",
       "4  Petter Mattei's \"Love in the Time of Money\" is...  positive"
      ]
     },
     "execution_count": 3,
     "metadata": {},
     "output_type": "execute_result"
    }
   ],
   "source": [
    "data_df.head()"
   ]
  },
  {
   "cell_type": "code",
   "execution_count": 4,
   "metadata": {},
   "outputs": [
    {
     "data": {
      "text/html": [
       "<div>\n",
       "<style scoped>\n",
       "    .dataframe tbody tr th:only-of-type {\n",
       "        vertical-align: middle;\n",
       "    }\n",
       "\n",
       "    .dataframe tbody tr th {\n",
       "        vertical-align: top;\n",
       "    }\n",
       "\n",
       "    .dataframe thead th {\n",
       "        text-align: right;\n",
       "    }\n",
       "</style>\n",
       "<table border=\"1\" class=\"dataframe\">\n",
       "  <thead>\n",
       "    <tr style=\"text-align: right;\">\n",
       "      <th></th>\n",
       "      <th>review</th>\n",
       "      <th>sentiment</th>\n",
       "    </tr>\n",
       "  </thead>\n",
       "  <tbody>\n",
       "    <tr>\n",
       "      <th>count</th>\n",
       "      <td>10000</td>\n",
       "      <td>10000</td>\n",
       "    </tr>\n",
       "    <tr>\n",
       "      <th>unique</th>\n",
       "      <td>9983</td>\n",
       "      <td>2</td>\n",
       "    </tr>\n",
       "    <tr>\n",
       "      <th>top</th>\n",
       "      <td>I want very much to believe that the above quo...</td>\n",
       "      <td>positive</td>\n",
       "    </tr>\n",
       "    <tr>\n",
       "      <th>freq</th>\n",
       "      <td>2</td>\n",
       "      <td>5028</td>\n",
       "    </tr>\n",
       "  </tbody>\n",
       "</table>\n",
       "</div>"
      ],
      "text/plain": [
       "                                                   review sentiment\n",
       "count                                               10000     10000\n",
       "unique                                               9983         2\n",
       "top     I want very much to believe that the above quo...  positive\n",
       "freq                                                    2      5028"
      ]
     },
     "execution_count": 4,
     "metadata": {},
     "output_type": "execute_result"
    }
   ],
   "source": [
    "data_df.describe()"
   ]
  },
  {
   "attachments": {},
   "cell_type": "markdown",
   "metadata": {},
   "source": [
    "<h5>Tokenizing the review</h5>"
   ]
  },
  {
   "cell_type": "code",
   "execution_count": 5,
   "metadata": {},
   "outputs": [],
   "source": [
    "all_words_list = []\n",
    "documents = []\n",
    "\n",
    "\"\"\" \n",
    "J is adject\n",
    "R is adverb\n",
    "V is verb\n",
    "\"\"\"\n",
    "allowed_word_types = [\"J\"]\n",
    "\n",
    "for index, row in data_df.iterrows():\n",
    "    if row.sentiment == \"positive\":\n",
    "        documents.append( (row.review, \"pos\") )\n",
    "    else:\n",
    "        documents.append( (row.review, \"neg\") )\n",
    "    words = word_tokenize(row.review)\n",
    "    pos = nltk.pos_tag(words)\n",
    "    for w in pos:\n",
    "        if w[0] != '<' and w[1][0] in allowed_word_types:\n",
    "            all_words_list.append(w[0].lower())"
   ]
  },
  {
   "cell_type": "code",
   "execution_count": 6,
   "metadata": {},
   "outputs": [],
   "source": [
    "with open(file_path + \"pickled_algorithms/documents.pickle\",\"wb\") as document_pickle_file:\n",
    "    pickle.dump(documents, document_pickle_file)"
   ]
  },
  {
   "attachments": {},
   "cell_type": "markdown",
   "metadata": {},
   "source": [
    "<h5>Extracting Frequent words in the dataset to generate feature for ML Algorithm</h5>"
   ]
  },
  {
   "cell_type": "code",
   "execution_count": 7,
   "metadata": {},
   "outputs": [],
   "source": [
    "all_words = nltk.FreqDist(all_words_list)\n",
    "word_features = list(all_words.keys())[:5500]"
   ]
  },
  {
   "cell_type": "code",
   "execution_count": 8,
   "metadata": {},
   "outputs": [],
   "source": [
    "with open(file_path + \"pickled_algorithms/word_features5k.pickle\",\"wb\") as word_feature_file:\n",
    "    pickle.dump(word_features, word_feature_file)"
   ]
  },
  {
   "cell_type": "code",
   "execution_count": 9,
   "metadata": {},
   "outputs": [
    {
     "data": {
      "text/plain": [
       "[('good', 5699),\n",
       " ('other', 3613),\n",
       " ('great', 3380),\n",
       " ('bad', 3351),\n",
       " ('more', 2714),\n",
       " ('first', 2604),\n",
       " ('many', 2562),\n",
       " ('little', 2333),\n",
       " ('much', 2256),\n",
       " ('best', 2162)]"
      ]
     },
     "execution_count": 9,
     "metadata": {},
     "output_type": "execute_result"
    }
   ],
   "source": [
    "all_words.most_common(10)\n",
    "# all_words['good']"
   ]
  },
  {
   "attachments": {},
   "cell_type": "markdown",
   "metadata": {},
   "source": [
    "<h5>Generate feature set from review</h5>"
   ]
  },
  {
   "cell_type": "code",
   "execution_count": 10,
   "metadata": {},
   "outputs": [],
   "source": [
    "def find_features(document):\n",
    "    words = word_tokenize(document)\n",
    "    features = {}\n",
    "    for w in word_features:\n",
    "        features[w] = (w in words)\n",
    "\n",
    "    return features\n",
    "\n",
    "featuresets = [(find_features(rev), category) for (rev, category) in documents]"
   ]
  },
  {
   "attachments": {},
   "cell_type": "markdown",
   "metadata": {},
   "source": [
    "<h5>Shuffuling the dataset and split train-test data for training</h5>"
   ]
  },
  {
   "cell_type": "code",
   "execution_count": 11,
   "metadata": {},
   "outputs": [],
   "source": [
    "random.shuffle(featuresets)\n",
    "\n",
    "testing_set_number = int(len(data_df)*0.66)\n",
    "testing_set = featuresets[testing_set_number:]\n",
    "training_set = featuresets[:testing_set_number]"
   ]
  },
  {
   "attachments": {},
   "cell_type": "markdown",
   "metadata": {},
   "source": [
    "<h4>Training Begins...</h4>"
   ]
  },
  {
   "cell_type": "code",
   "execution_count": 12,
   "metadata": {},
   "outputs": [
    {
     "name": "stdout",
     "output_type": "stream",
     "text": [
      "Original Naive Bayes Algo accuracy percent: 83.88235294117648\n",
      "MNB_classifier accuracy percent: 84.38235294117648\n",
      "BernoulliNB_classifier accuracy percent: 83.91176470588235\n",
      "LogisticRegression_classifier accuracy percent: 82.02941176470588\n",
      "LinearSVC_classifier accuracy percent: 79.20588235294119\n",
      "NuSVC_classifier accuracy percent: 83.61764705882354\n",
      "SGDClassifier accuracy percent: 79.79411764705883\n"
     ]
    }
   ],
   "source": [
    "classifier = nltk.NaiveBayesClassifier.train(training_set)\n",
    "nbc_accuracy = (nltk.classify.accuracy(classifier, testing_set))*100\n",
    "print(\"Original Naive Bayes Algo accuracy percent:\", nbc_accuracy)\n",
    "# classifier.show_most_informative_features(15)\n",
    "\n",
    "\n",
    "MNB_classifier = SklearnClassifier(MultinomialNB())\n",
    "MNB_classifier.train(training_set)\n",
    "mnb_accuracy = (nltk.classify.accuracy(MNB_classifier, testing_set))*100\n",
    "print(\"MNB_classifier accuracy percent:\", mnb_accuracy)\n",
    "\n",
    "\n",
    "BernoulliNB_classifier = SklearnClassifier(BernoulliNB())\n",
    "BernoulliNB_classifier.train(training_set)\n",
    "bnb_accuracy = (nltk.classify.accuracy(BernoulliNB_classifier, testing_set))*100\n",
    "print(\"BernoulliNB_classifier accuracy percent:\", bnb_accuracy)\n",
    "\n",
    "\n",
    "LogisticRegression_classifier = SklearnClassifier(LogisticRegression())\n",
    "LogisticRegression_classifier.train(training_set)\n",
    "lr_accuracy = (nltk.classify.accuracy(LogisticRegression_classifier, testing_set))*100\n",
    "print(\"LogisticRegression_classifier accuracy percent:\", lr_accuracy)\n",
    "\n",
    "\n",
    "LinearSVC_classifier = SklearnClassifier(LinearSVC())\n",
    "LinearSVC_classifier.train(training_set)\n",
    "lsvc_accuracy = (nltk.classify.accuracy(LinearSVC_classifier, testing_set))*100\n",
    "print(\"LinearSVC_classifier accuracy percent:\", lsvc_accuracy)\n",
    "\n",
    "\n",
    "NuSVC_classifier = SklearnClassifier(NuSVC())\n",
    "NuSVC_classifier.train(training_set)\n",
    "nsvc_accuracy = (nltk.classify.accuracy(NuSVC_classifier, testing_set))*100\n",
    "print(\"NuSVC_classifier accuracy percent:\", nsvc_accuracy)\n",
    "\n",
    "\n",
    "SGDC_classifier = SklearnClassifier(SGDClassifier())\n",
    "SGDC_classifier.train(training_set)\n",
    "sgdc_accuracy = nltk.classify.accuracy(SGDC_classifier, testing_set)*100\n",
    "print(\"SGDClassifier accuracy percent:\", sgdc_accuracy)"
   ]
  },
  {
   "cell_type": "code",
   "execution_count": 13,
   "metadata": {},
   "outputs": [
    {
     "data": {
      "image/png": "[encoded data removed]",
      "text/plain": [
       "<Figure size 720x360 with 1 Axes>"
      ]
     },
     "metadata": {
      "needs_background": "light"
     },
     "output_type": "display_data"
    }
   ],
   "source": [
    "accuracy_data = {\n",
    "    'Naive Bayes': nbc_accuracy,\n",
    "    'MNB': mnb_accuracy,\n",
    "    'BernoulliNB': bnb_accuracy,\n",
    "    'LogisticRegression': lr_accuracy,\n",
    "    'LinearSVC': lsvc_accuracy,\n",
    "    'NuSVC': nsvc_accuracy,\n",
    "    'SGDC': sgdc_accuracy,\n",
    "}\n",
    "\n",
    "accuracy_data = dict(sorted(accuracy_data.items(), key=lambda x:x[1]))\n",
    "\n",
    "algorithms = list(accuracy_data.keys())\n",
    "accuracy = list(accuracy_data.values())\n",
    "\n",
    "fig = plt.figure(figsize = (10, 5))\n",
    " \n",
    "# creating the bar plot\n",
    "plt.bar(algorithms, accuracy, color ='maroon', width = 0.4)\n",
    " \n",
    "plt.xlabel(\"Algorithms\")\n",
    "plt.ylabel(\"Accurancy %\")\n",
    "plt.title(\"Accuracy of various algoriths\")\n",
    "plt.show()"
   ]
  },
  {
   "cell_type": "code",
   "execution_count": 14,
   "metadata": {},
   "outputs": [],
   "source": [
    "with open(file_path + \"pickled_algorithms/originalnaivebayes5k.pickle\",\"wb\") as save_classifier:\n",
    "    pickle.dump(classifier, save_classifier)\n",
    "\n",
    "with open(file_path + \"pickled_algorithms/MNB_classifier5k.pickle\",\"wb\") as save_classifier:\n",
    "    pickle.dump(MNB_classifier, save_classifier)\n",
    "\n",
    "with open(file_path + \"pickled_algorithms/BernoulliNB_classifier5k.pickle\",\"wb\") as save_classifier:\n",
    "    pickle.dump(BernoulliNB_classifier, save_classifier)\n",
    "\n",
    "with open(file_path + \"pickled_algorithms/LogisticRegression_classifier5k.pickle\",\"wb\") as save_classifier:\n",
    "    pickle.dump(LogisticRegression_classifier, save_classifier)\n",
    "\n",
    "with open(file_path + \"pickled_algorithms/LinearSVC_classifier5k.pickle\",\"wb\") as save_classifier:\n",
    "    pickle.dump(LinearSVC_classifier, save_classifier)\n",
    "\n",
    "with open(file_path + \"pickled_algorithms/SGDC_classifier5k.pickle\",\"wb\") as save_classifier:\n",
    "    pickle.dump(SGDC_classifier, save_classifier)"
   ]
  },
  {
   "cell_type": "code",
   "execution_count": 15,
   "metadata": {},
   "outputs": [],
   "source": [
    "class VoteClassifier(ClassifierI):\n",
    "    def __init__(self, *classifiers):\n",
    "        self._classifiers = classifiers\n",
    "\n",
    "    def mode_votes(self, features):\n",
    "        votes = []\n",
    "        for c in self._classifiers:\n",
    "            v = c.classify(features)\n",
    "            votes.append(v)\n",
    "\n",
    "        try:\n",
    "            mode_votes = mode(votes)\n",
    "        except:\n",
    "            mode_votes = s.mode(votes).mode[0]\n",
    "        \n",
    "        return mode_votes\n",
    "\n",
    "    def classify(self, features):\n",
    "        return self.mode_votes(features)\n",
    "    \n",
    "    def confidence(self, features):\n",
    "        votes = []\n",
    "        for c in self._classifiers:\n",
    "            v = c.classify(features)\n",
    "            votes.append(v)\n",
    "\n",
    "        choice_votes = votes.count(self.mode_votes(features))\n",
    "        conf = choice_votes / len(votes)\n",
    "        return conf\n",
    "\n",
    "voted_classifier = VoteClassifier(classifier,\n",
    "                                  NuSVC_classifier,\n",
    "                                  LinearSVC_classifier,\n",
    "                                  SGDC_classifier,\n",
    "                                  MNB_classifier,\n",
    "                                  BernoulliNB_classifier,\n",
    "                                  LogisticRegression_classifier)\n"
   ]
  },
  {
   "cell_type": "code",
   "execution_count": 16,
   "metadata": {},
   "outputs": [
    {
     "name": "stdout",
     "output_type": "stream",
     "text": [
      "voted_classifier accuracy percent: 83.6470588235294\n",
      "Classification: neg Confidence %: 100.0\n",
      "Classification: neg Confidence %: 71.42857142857143\n",
      "Classification: pos Confidence %: 100.0\n",
      "Classification: neg Confidence %: 100.0\n",
      "Classification: pos Confidence %: 100.0\n",
      "Classification: neg Confidence %: 85.71428571428571\n"
     ]
    }
   ],
   "source": [
    "print(\"voted_classifier accuracy percent:\", (nltk.classify.accuracy(voted_classifier, testing_set))*100)\n",
    "\n",
    "print(\"Classification:\", voted_classifier.classify(testing_set[0][0]), \"Confidence %:\",voted_classifier.confidence(testing_set[0][0])*100)\n",
    "print(\"Classification:\", voted_classifier.classify(testing_set[1][0]), \"Confidence %:\",voted_classifier.confidence(testing_set[1][0])*100)\n",
    "print(\"Classification:\", voted_classifier.classify(testing_set[2][0]), \"Confidence %:\",voted_classifier.confidence(testing_set[2][0])*100)\n",
    "print(\"Classification:\", voted_classifier.classify(testing_set[3][0]), \"Confidence %:\",voted_classifier.confidence(testing_set[3][0])*100)\n",
    "print(\"Classification:\", voted_classifier.classify(testing_set[4][0]), \"Confidence %:\",voted_classifier.confidence(testing_set[4][0])*100)\n",
    "print(\"Classification:\", voted_classifier.classify(testing_set[5][0]), \"Confidence %:\",voted_classifier.confidence(testing_set[5][0])*100)"
   ]
  },
  {
   "cell_type": "code",
   "execution_count": 17,
   "metadata": {},
   "outputs": [
    {
     "data": {
      "text/plain": [
       "'pos'"
      ]
     },
     "execution_count": 17,
     "metadata": {},
     "output_type": "execute_result"
    }
   ],
   "source": [
    "voted_classifier.classify(find_features('Lakpa is handsome and briliant man.'))"
   ]
  },
  {
   "cell_type": "code",
   "execution_count": null,
   "metadata": {},
   "outputs": [],
   "source": []
  }
 ],
 "metadata": {
  "kernelspec": {
   "display_name": "Python 3",
   "language": "python",
   "name": "python3"
  },
  "language_info": {
   "codemirror_mode": {
    "name": "ipython",
    "version": 3
   },
   "file_extension": ".py",
   "mimetype": "text/x-python",
   "name": "python",
   "nbconvert_exporter": "python",
   "pygments_lexer": "ipython3",
   "version": "3.6.15 (default, Jan 16 2023, 20:47:29) \n[GCC Apple LLVM 14.0.0 (clang-1400.0.29.202)]"
  },
  "orig_nbformat": 4,
  "vscode": {
   "interpreter": {
    "hash": "14091a60fe420c8f8e9b9d2e248ef11a29d6485dba7f8198e1ab370e41292b8d"
   }
  }
 },
 "nbformat": 4,
 "nbformat_minor": 2
}
